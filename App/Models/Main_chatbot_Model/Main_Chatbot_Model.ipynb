{
 "cells": [
  {
   "cell_type": "code",
   "execution_count": 1,
   "id": "bb55ed04-9050-4f4d-b82c-3a9f7bba7002",
   "metadata": {},
   "outputs": [],
   "source": [
    "import numpy as np\n",
    "import pandas as pd\n",
    "import sklearn\n",
    "import tensorflow \n",
    "import nltk\n",
    "import spacy\n",
    "import json"
   ]
  },
  {
   "cell_type": "code",
   "execution_count": 2,
   "id": "79a7c1b9-2a8d-4005-8bef-8dda42c3b3f3",
   "metadata": {},
   "outputs": [],
   "source": [
    "from tensorflow import keras\n",
    "from tensorflow.keras import layers"
   ]
  },
  {
   "cell_type": "code",
   "execution_count": 3,
   "id": "5cd59fdc-76bb-4533-9c87-056d718d8ebd",
   "metadata": {},
   "outputs": [],
   "source": [
    "with open('D:\\\\HWAN\\\\Data\\\\Main_chatbot_dataset.json','r') as f:\n",
    "    data = json.load(f)"
   ]
  },
  {
   "cell_type": "code",
   "execution_count": 4,
   "id": "787c82ed-5190-401c-9315-e1244f2b942c",
   "metadata": {},
   "outputs": [
    {
     "data": {
      "text/html": [
       "<div>\n",
       "<style scoped>\n",
       "    .dataframe tbody tr th:only-of-type {\n",
       "        vertical-align: middle;\n",
       "    }\n",
       "\n",
       "    .dataframe tbody tr th {\n",
       "        vertical-align: top;\n",
       "    }\n",
       "\n",
       "    .dataframe thead th {\n",
       "        text-align: right;\n",
       "    }\n",
       "</style>\n",
       "<table border=\"1\" class=\"dataframe\">\n",
       "  <thead>\n",
       "    <tr style=\"text-align: right;\">\n",
       "      <th></th>\n",
       "      <th>tag</th>\n",
       "      <th>patterns</th>\n",
       "      <th>responses</th>\n",
       "      <th>context_set</th>\n",
       "    </tr>\n",
       "  </thead>\n",
       "  <tbody>\n",
       "    <tr>\n",
       "      <th>0</th>\n",
       "      <td>greeting</td>\n",
       "      <td>[Hi, Hello, Hey, Good morning, Good afternoon,...</td>\n",
       "      <td>[Hi there! How can I assist you today?, Hello!...</td>\n",
       "      <td></td>\n",
       "    </tr>\n",
       "    <tr>\n",
       "      <th>1</th>\n",
       "      <td>symptom_inquiry</td>\n",
       "      <td>[I'm not feeling well, I have some symptoms, W...</td>\n",
       "      <td>[I'm here to help you assess your symptoms. Le...</td>\n",
       "      <td>symptom_checker</td>\n",
       "    </tr>\n",
       "    <tr>\n",
       "      <th>2</th>\n",
       "      <td>fitness_recommendations</td>\n",
       "      <td>[I want to exercise, Can you recommend some wo...</td>\n",
       "      <td>[Staying active is important for your health! ...</td>\n",
       "      <td>fitness_recommendations</td>\n",
       "    </tr>\n",
       "    <tr>\n",
       "      <th>3</th>\n",
       "      <td>stress_support</td>\n",
       "      <td>[I'm feeling stressed, How can I relax?, What ...</td>\n",
       "      <td>[It's important to prioritize your mental well...</td>\n",
       "      <td>stress_support</td>\n",
       "    </tr>\n",
       "    <tr>\n",
       "      <th>4</th>\n",
       "      <td>menu_options</td>\n",
       "      <td>[What can you do?, What are your capabilities?...</td>\n",
       "      <td>[I can assist you with a variety of tasks, inc...</td>\n",
       "      <td></td>\n",
       "    </tr>\n",
       "    <tr>\n",
       "      <th>5</th>\n",
       "      <td>feature_request</td>\n",
       "      <td>[I wish this app could do X, It would be great...</td>\n",
       "      <td>[Thank you for your suggestion! I'll pass it a...</td>\n",
       "      <td></td>\n",
       "    </tr>\n",
       "    <tr>\n",
       "      <th>6</th>\n",
       "      <td>bug_report</td>\n",
       "      <td>[I found a bug, There's a problem with the app...</td>\n",
       "      <td>[Thank you for letting us know! Please provide...</td>\n",
       "      <td></td>\n",
       "    </tr>\n",
       "    <tr>\n",
       "      <th>7</th>\n",
       "      <td>app_tour</td>\n",
       "      <td>[Can you show me around the app?, How does the...</td>\n",
       "      <td>[Sure! Our app has several sections, including...</td>\n",
       "      <td></td>\n",
       "    </tr>\n",
       "    <tr>\n",
       "      <th>8</th>\n",
       "      <td>app_feedback</td>\n",
       "      <td>[I have some feedback about the app, Can I pro...</td>\n",
       "      <td>[We value your feedback! Please feel free to s...</td>\n",
       "      <td></td>\n",
       "    </tr>\n",
       "    <tr>\n",
       "      <th>9</th>\n",
       "      <td>user_engagement</td>\n",
       "      <td>[How can I make the most out of this app?, Wha...</td>\n",
       "      <td>[To make the most out of the app, try to use i...</td>\n",
       "      <td></td>\n",
       "    </tr>\n",
       "    <tr>\n",
       "      <th>10</th>\n",
       "      <td>privacy_policy</td>\n",
       "      <td>[What's your privacy policy?, How do you handl...</td>\n",
       "      <td>[We take your privacy seriously. Our privacy p...</td>\n",
       "      <td></td>\n",
       "    </tr>\n",
       "    <tr>\n",
       "      <th>11</th>\n",
       "      <td>about_app</td>\n",
       "      <td>[Tell me more about this app, What's the purpo...</td>\n",
       "      <td>[Our app is designed to help you with your hea...</td>\n",
       "      <td></td>\n",
       "    </tr>\n",
       "  </tbody>\n",
       "</table>\n",
       "</div>"
      ],
      "text/plain": [
       "                        tag  \\\n",
       "0                  greeting   \n",
       "1           symptom_inquiry   \n",
       "2   fitness_recommendations   \n",
       "3            stress_support   \n",
       "4              menu_options   \n",
       "5           feature_request   \n",
       "6                bug_report   \n",
       "7                  app_tour   \n",
       "8              app_feedback   \n",
       "9           user_engagement   \n",
       "10           privacy_policy   \n",
       "11                about_app   \n",
       "\n",
       "                                             patterns  \\\n",
       "0   [Hi, Hello, Hey, Good morning, Good afternoon,...   \n",
       "1   [I'm not feeling well, I have some symptoms, W...   \n",
       "2   [I want to exercise, Can you recommend some wo...   \n",
       "3   [I'm feeling stressed, How can I relax?, What ...   \n",
       "4   [What can you do?, What are your capabilities?...   \n",
       "5   [I wish this app could do X, It would be great...   \n",
       "6   [I found a bug, There's a problem with the app...   \n",
       "7   [Can you show me around the app?, How does the...   \n",
       "8   [I have some feedback about the app, Can I pro...   \n",
       "9   [How can I make the most out of this app?, Wha...   \n",
       "10  [What's your privacy policy?, How do you handl...   \n",
       "11  [Tell me more about this app, What's the purpo...   \n",
       "\n",
       "                                            responses              context_set  \n",
       "0   [Hi there! How can I assist you today?, Hello!...                           \n",
       "1   [I'm here to help you assess your symptoms. Le...          symptom_checker  \n",
       "2   [Staying active is important for your health! ...  fitness_recommendations  \n",
       "3   [It's important to prioritize your mental well...           stress_support  \n",
       "4   [I can assist you with a variety of tasks, inc...                           \n",
       "5   [Thank you for your suggestion! I'll pass it a...                           \n",
       "6   [Thank you for letting us know! Please provide...                           \n",
       "7   [Sure! Our app has several sections, including...                           \n",
       "8   [We value your feedback! Please feel free to s...                           \n",
       "9   [To make the most out of the app, try to use i...                           \n",
       "10  [We take your privacy seriously. Our privacy p...                           \n",
       "11  [Our app is designed to help you with your hea...                           "
      ]
     },
     "execution_count": 4,
     "metadata": {},
     "output_type": "execute_result"
    }
   ],
   "source": [
    "df = pd.DataFrame(data['intents'])\n",
    "df"
   ]
  },
  {
   "cell_type": "code",
   "execution_count": 5,
   "id": "3e2640cb-3fc1-4fdf-87cd-4b13babdd7d2",
   "metadata": {},
   "outputs": [
    {
     "data": {
      "text/html": [
       "<div>\n",
       "<style scoped>\n",
       "    .dataframe tbody tr th:only-of-type {\n",
       "        vertical-align: middle;\n",
       "    }\n",
       "\n",
       "    .dataframe tbody tr th {\n",
       "        vertical-align: top;\n",
       "    }\n",
       "\n",
       "    .dataframe thead th {\n",
       "        text-align: right;\n",
       "    }\n",
       "</style>\n",
       "<table border=\"1\" class=\"dataframe\">\n",
       "  <thead>\n",
       "    <tr style=\"text-align: right;\">\n",
       "      <th></th>\n",
       "      <th>patterns</th>\n",
       "      <th>tag</th>\n",
       "    </tr>\n",
       "  </thead>\n",
       "  <tbody>\n",
       "    <tr>\n",
       "      <th>0</th>\n",
       "      <td>[Hi, Hello, Hey, Good morning, Good afternoon,...</td>\n",
       "      <td>greeting</td>\n",
       "    </tr>\n",
       "    <tr>\n",
       "      <th>1</th>\n",
       "      <td>[I'm not feeling well, I have some symptoms, W...</td>\n",
       "      <td>symptom_inquiry</td>\n",
       "    </tr>\n",
       "    <tr>\n",
       "      <th>2</th>\n",
       "      <td>[I want to exercise, Can you recommend some wo...</td>\n",
       "      <td>fitness_recommendations</td>\n",
       "    </tr>\n",
       "    <tr>\n",
       "      <th>3</th>\n",
       "      <td>[I'm feeling stressed, How can I relax?, What ...</td>\n",
       "      <td>stress_support</td>\n",
       "    </tr>\n",
       "    <tr>\n",
       "      <th>4</th>\n",
       "      <td>[What can you do?, What are your capabilities?...</td>\n",
       "      <td>menu_options</td>\n",
       "    </tr>\n",
       "    <tr>\n",
       "      <th>5</th>\n",
       "      <td>[I wish this app could do X, It would be great...</td>\n",
       "      <td>feature_request</td>\n",
       "    </tr>\n",
       "    <tr>\n",
       "      <th>6</th>\n",
       "      <td>[I found a bug, There's a problem with the app...</td>\n",
       "      <td>bug_report</td>\n",
       "    </tr>\n",
       "    <tr>\n",
       "      <th>7</th>\n",
       "      <td>[Can you show me around the app?, How does the...</td>\n",
       "      <td>app_tour</td>\n",
       "    </tr>\n",
       "    <tr>\n",
       "      <th>8</th>\n",
       "      <td>[I have some feedback about the app, Can I pro...</td>\n",
       "      <td>app_feedback</td>\n",
       "    </tr>\n",
       "    <tr>\n",
       "      <th>9</th>\n",
       "      <td>[How can I make the most out of this app?, Wha...</td>\n",
       "      <td>user_engagement</td>\n",
       "    </tr>\n",
       "    <tr>\n",
       "      <th>10</th>\n",
       "      <td>[What's your privacy policy?, How do you handl...</td>\n",
       "      <td>privacy_policy</td>\n",
       "    </tr>\n",
       "    <tr>\n",
       "      <th>11</th>\n",
       "      <td>[Tell me more about this app, What's the purpo...</td>\n",
       "      <td>about_app</td>\n",
       "    </tr>\n",
       "  </tbody>\n",
       "</table>\n",
       "</div>"
      ],
      "text/plain": [
       "                                             patterns                      tag\n",
       "0   [Hi, Hello, Hey, Good morning, Good afternoon,...                 greeting\n",
       "1   [I'm not feeling well, I have some symptoms, W...          symptom_inquiry\n",
       "2   [I want to exercise, Can you recommend some wo...  fitness_recommendations\n",
       "3   [I'm feeling stressed, How can I relax?, What ...           stress_support\n",
       "4   [What can you do?, What are your capabilities?...             menu_options\n",
       "5   [I wish this app could do X, It would be great...          feature_request\n",
       "6   [I found a bug, There's a problem with the app...               bug_report\n",
       "7   [Can you show me around the app?, How does the...                 app_tour\n",
       "8   [I have some feedback about the app, Can I pro...             app_feedback\n",
       "9   [How can I make the most out of this app?, Wha...          user_engagement\n",
       "10  [What's your privacy policy?, How do you handl...           privacy_policy\n",
       "11  [Tell me more about this app, What's the purpo...                about_app"
      ]
     },
     "execution_count": 5,
     "metadata": {},
     "output_type": "execute_result"
    }
   ],
   "source": [
    "df_patterns = df[['patterns', 'tag']]\n",
    "df_patterns"
   ]
  },
  {
   "cell_type": "code",
   "execution_count": 6,
   "id": "8464623d-add9-4a79-bbff-a4a5ebb6a992",
   "metadata": {},
   "outputs": [
    {
     "data": {
      "text/plain": [
       "{'greeting': 0,\n",
       " 'symptom_inquiry': 1,\n",
       " 'fitness_recommendations': 2,\n",
       " 'stress_support': 3,\n",
       " 'menu_options': 4,\n",
       " 'feature_request': 5,\n",
       " 'bug_report': 6,\n",
       " 'app_tour': 7,\n",
       " 'app_feedback': 8,\n",
       " 'user_engagement': 9,\n",
       " 'privacy_policy': 10,\n",
       " 'about_app': 11}"
      ]
     },
     "execution_count": 6,
     "metadata": {},
     "output_type": "execute_result"
    }
   ],
   "source": [
    "tags = {}\n",
    "\n",
    "for i,tag in enumerate(df_patterns['tag']):\n",
    "    tags[tag] = i\n",
    "tags"
   ]
  },
  {
   "cell_type": "code",
   "execution_count": 7,
   "id": "089a83e2-8156-452a-a278-02c967b68868",
   "metadata": {},
   "outputs": [
    {
     "name": "stderr",
     "output_type": "stream",
     "text": [
      "C:\\Users\\HP\\AppData\\Local\\Temp\\ipykernel_12140\\319162813.py:2: FutureWarning: ChainedAssignmentError: behaviour will change in pandas 3.0!\n",
      "You are setting values through chained assignment. Currently this works in certain cases, but when using Copy-on-Write (which will become the default behaviour in pandas 3.0) this will never work to update the original DataFrame or Series, because the intermediate object on which we are setting values will behave as a copy.\n",
      "A typical example is when you are setting values in a column of a DataFrame, like:\n",
      "\n",
      "df[\"col\"][row_indexer] = value\n",
      "\n",
      "Use `df.loc[row_indexer, \"col\"] = values` instead, to perform the assignment in a single step and ensure this keeps updating the original `df`.\n",
      "\n",
      "See the caveats in the documentation: https://pandas.pydata.org/pandas-docs/stable/user_guide/indexing.html#returning-a-view-versus-a-copy\n",
      "\n",
      "  df_patterns['tag'].loc[i] = i\n",
      "C:\\Users\\HP\\AppData\\Local\\Temp\\ipykernel_12140\\319162813.py:2: SettingWithCopyWarning: \n",
      "A value is trying to be set on a copy of a slice from a DataFrame\n",
      "\n",
      "See the caveats in the documentation: https://pandas.pydata.org/pandas-docs/stable/user_guide/indexing.html#returning-a-view-versus-a-copy\n",
      "  df_patterns['tag'].loc[i] = i\n"
     ]
    }
   ],
   "source": [
    "for i,tag in enumerate(df_patterns['tag']):\n",
    "    df_patterns['tag'].loc[i] = i"
   ]
  },
  {
   "cell_type": "code",
   "execution_count": 8,
   "id": "97913189-40b7-4757-a05b-9d215df6944d",
   "metadata": {},
   "outputs": [],
   "source": [
    "# Ignore The eror above"
   ]
  },
  {
   "cell_type": "code",
   "execution_count": 9,
   "id": "45d57dd5-897c-48df-8e50-419979a6c0e7",
   "metadata": {},
   "outputs": [
    {
     "data": {
      "text/html": [
       "<div>\n",
       "<style scoped>\n",
       "    .dataframe tbody tr th:only-of-type {\n",
       "        vertical-align: middle;\n",
       "    }\n",
       "\n",
       "    .dataframe tbody tr th {\n",
       "        vertical-align: top;\n",
       "    }\n",
       "\n",
       "    .dataframe thead th {\n",
       "        text-align: right;\n",
       "    }\n",
       "</style>\n",
       "<table border=\"1\" class=\"dataframe\">\n",
       "  <thead>\n",
       "    <tr style=\"text-align: right;\">\n",
       "      <th></th>\n",
       "      <th>patterns</th>\n",
       "      <th>tag</th>\n",
       "    </tr>\n",
       "  </thead>\n",
       "  <tbody>\n",
       "    <tr>\n",
       "      <th>0</th>\n",
       "      <td>[Hi, Hello, Hey, Good morning, Good afternoon,...</td>\n",
       "      <td>0</td>\n",
       "    </tr>\n",
       "    <tr>\n",
       "      <th>1</th>\n",
       "      <td>[I'm not feeling well, I have some symptoms, W...</td>\n",
       "      <td>1</td>\n",
       "    </tr>\n",
       "    <tr>\n",
       "      <th>2</th>\n",
       "      <td>[I want to exercise, Can you recommend some wo...</td>\n",
       "      <td>2</td>\n",
       "    </tr>\n",
       "    <tr>\n",
       "      <th>3</th>\n",
       "      <td>[I'm feeling stressed, How can I relax?, What ...</td>\n",
       "      <td>3</td>\n",
       "    </tr>\n",
       "    <tr>\n",
       "      <th>4</th>\n",
       "      <td>[What can you do?, What are your capabilities?...</td>\n",
       "      <td>4</td>\n",
       "    </tr>\n",
       "    <tr>\n",
       "      <th>5</th>\n",
       "      <td>[I wish this app could do X, It would be great...</td>\n",
       "      <td>5</td>\n",
       "    </tr>\n",
       "    <tr>\n",
       "      <th>6</th>\n",
       "      <td>[I found a bug, There's a problem with the app...</td>\n",
       "      <td>6</td>\n",
       "    </tr>\n",
       "    <tr>\n",
       "      <th>7</th>\n",
       "      <td>[Can you show me around the app?, How does the...</td>\n",
       "      <td>7</td>\n",
       "    </tr>\n",
       "    <tr>\n",
       "      <th>8</th>\n",
       "      <td>[I have some feedback about the app, Can I pro...</td>\n",
       "      <td>8</td>\n",
       "    </tr>\n",
       "    <tr>\n",
       "      <th>9</th>\n",
       "      <td>[How can I make the most out of this app?, Wha...</td>\n",
       "      <td>9</td>\n",
       "    </tr>\n",
       "    <tr>\n",
       "      <th>10</th>\n",
       "      <td>[What's your privacy policy?, How do you handl...</td>\n",
       "      <td>10</td>\n",
       "    </tr>\n",
       "    <tr>\n",
       "      <th>11</th>\n",
       "      <td>[Tell me more about this app, What's the purpo...</td>\n",
       "      <td>11</td>\n",
       "    </tr>\n",
       "  </tbody>\n",
       "</table>\n",
       "</div>"
      ],
      "text/plain": [
       "                                             patterns tag\n",
       "0   [Hi, Hello, Hey, Good morning, Good afternoon,...   0\n",
       "1   [I'm not feeling well, I have some symptoms, W...   1\n",
       "2   [I want to exercise, Can you recommend some wo...   2\n",
       "3   [I'm feeling stressed, How can I relax?, What ...   3\n",
       "4   [What can you do?, What are your capabilities?...   4\n",
       "5   [I wish this app could do X, It would be great...   5\n",
       "6   [I found a bug, There's a problem with the app...   6\n",
       "7   [Can you show me around the app?, How does the...   7\n",
       "8   [I have some feedback about the app, Can I pro...   8\n",
       "9   [How can I make the most out of this app?, Wha...   9\n",
       "10  [What's your privacy policy?, How do you handl...  10\n",
       "11  [Tell me more about this app, What's the purpo...  11"
      ]
     },
     "execution_count": 9,
     "metadata": {},
     "output_type": "execute_result"
    }
   ],
   "source": [
    "df_patterns"
   ]
  },
  {
   "cell_type": "code",
   "execution_count": 10,
   "id": "cbaefff4-b73d-44b9-a711-df222096e797",
   "metadata": {},
   "outputs": [],
   "source": [
    "from nltk import PorterStemmer"
   ]
  },
  {
   "cell_type": "code",
   "execution_count": 11,
   "id": "6b41ef22-e0ae-40db-a14b-636ef6260765",
   "metadata": {},
   "outputs": [],
   "source": [
    "Stemmer = PorterStemmer()\n",
    "nlp = spacy.load('en_core_web_lg')"
   ]
  },
  {
   "cell_type": "code",
   "execution_count": 12,
   "id": "abe22865-3d73-496e-a35f-6c0fc7a5bde3",
   "metadata": {},
   "outputs": [],
   "source": [
    "def clean(sentence):\n",
    "    a = []\n",
    "    doc = nlp(sentence)\n",
    "    for token in doc:\n",
    "        if token.is_alpha:\n",
    "            a.append(token.lemma_.lower())\n",
    "    return ' '.join(a)\n",
    "\n",
    "def lemmatize(sentence):\n",
    "    doc = nlp(sentence)\n",
    "    return ' '.join([token.lemma_ for token in doc])\n",
    "\n",
    "def stem(sentence):\n",
    "    porter = nltk.PorterStemmer()\n",
    "    return ' '.join([porter.stem(word) for word in nltk.word_tokenize(sentence)])"
   ]
  },
  {
   "cell_type": "code",
   "execution_count": 13,
   "id": "06cfd50d-6d6b-408b-a7f4-7245f02a31c3",
   "metadata": {},
   "outputs": [
    {
     "data": {
      "text/plain": [
       "'our app be design to help you with your health and wellness journey it provide resource and support in various area include symptom management fitness and stress relief let I know if you have any specific question or if there anything else I can assist you with'"
      ]
     },
     "execution_count": 13,
     "metadata": {},
     "output_type": "execute_result"
    }
   ],
   "source": [
    "sentence = '''Our app is designed to help you with your health and wellness journey. It provides resources and support in various areas, including symptom management, fitness, and stress relief. Let me know if you have any specific questions or if there's anything else I can assist you with.'''\n",
    "lemmatize(clean(sentence))"
   ]
  },
  {
   "cell_type": "code",
   "execution_count": 14,
   "id": "c47fd1b9-fa8b-4c3a-aca4-4b32df281434",
   "metadata": {},
   "outputs": [
    {
     "data": {
      "text/plain": [
       "'our app be design to help you with your health and well journey it provid resourc and support in variou area includ symptom manag fit and stress relief let i know if you have ani specif question or if there anyth els i can assist you with'"
      ]
     },
     "execution_count": 14,
     "metadata": {},
     "output_type": "execute_result"
    }
   ],
   "source": [
    "stem(clean(sentence))"
   ]
  },
  {
   "cell_type": "code",
   "execution_count": 15,
   "id": "2068ca3d-0453-4d32-9087-81e712bc75d2",
   "metadata": {},
   "outputs": [],
   "source": [
    "import random\n",
    "from nltk.corpus import wordnet"
   ]
  },
  {
   "cell_type": "code",
   "execution_count": 16,
   "id": "d4a3ed0d-9c1b-41ce-a91a-d532d71e3fff",
   "metadata": {},
   "outputs": [],
   "source": [
    "# Data Augmentation\n",
    "def random_deletion(words, p=0.5):\n",
    "    augmented_sentence = []\n",
    "    for word in words:\n",
    "        if random.uniform(0, 1) < p:\n",
    "            continue\n",
    "        augmented_sentence.append(word)\n",
    "    return ' '.join(augmented_sentence)\n",
    "\n",
    "def synonym_replacement(words, n=1):\n",
    "    augmented_sentences = []\n",
    "    for _ in range(n):\n",
    "        augmented_sentence = words.copy()\n",
    "        for i, token in enumerate(augmented_sentence):\n",
    "            synsets = wordnet.synsets(token)\n",
    "            if synsets:\n",
    "                synonyms = []\n",
    "                for synset in synsets:\n",
    "                    for lemma in synset.lemmas():\n",
    "                        synonyms.append(lemma.name())\n",
    "                if synonyms:\n",
    "                    synonym = random.choice(synonyms)\n",
    "                    augmented_sentence[i] = synonym\n",
    "        augmented_sentences.append(' '.join(augmented_sentence))\n",
    "    return augmented_sentences[0]"
   ]
  },
  {
   "cell_type": "code",
   "execution_count": 17,
   "id": "0dc1a697-497b-4981-9b51-8ead4a65c8e7",
   "metadata": {},
   "outputs": [
    {
     "data": {
      "text/plain": [
       "\"Our app designed to with wellness . provides resources and support in various including symptom management , , and relief . know if you specific questions or if there 's anything else I can you with .\""
      ]
     },
     "execution_count": 17,
     "metadata": {},
     "output_type": "execute_result"
    }
   ],
   "source": [
    "random_deletion(nltk.word_tokenize(sentence))"
   ]
  },
  {
   "cell_type": "code",
   "execution_count": 18,
   "id": "d5f549a8-4ebf-4fb5-91c0-78baab506e08",
   "metadata": {},
   "outputs": [
    {
     "data": {
      "text/plain": [
       "\"Our app equal design to help you with your wellness and health journey . information_technology allow_for imagination and endorse inwards various area , admit symptom management , fittingness , and accent relief . lease Pine_Tree_State know if you have any specific wonder operating_theater if in_that_location 's anything else i fundament aid you with .\""
      ]
     },
     "execution_count": 18,
     "metadata": {},
     "output_type": "execute_result"
    }
   ],
   "source": [
    "synonym_replacement(nltk.word_tokenize(sentence))"
   ]
  },
  {
   "cell_type": "code",
   "execution_count": 19,
   "id": "c2b861e4-441c-478f-a14f-3c5cb5a95107",
   "metadata": {
    "scrolled": true
   },
   "outputs": [
    {
     "name": "stdout",
     "output_type": "stream",
     "text": [
      "Hi\n",
      "Hello\n",
      "Hey\n",
      "Good morning\n",
      "Good afternoon\n",
      "Good evening\n",
      "I'm not feeling well\n",
      "I have some symptoms\n",
      "What should I do if I feel sick?\n",
      "I think I might be sick\n",
      "I want to exercise\n",
      "Can you recommend some workouts?\n",
      "How can I stay fit?\n",
      "I need help with my fitness routine\n",
      "I'm feeling stressed\n",
      "How can I relax?\n",
      "What should I do if I'm anxious?\n",
      "Dealing with anxiety\n",
      "What can you do?\n",
      "What are your capabilities?\n",
      "Show me the options\n",
      "How can you help me?\n",
      "I wish this app could do X\n",
      "It would be great if I could X\n",
      "Can you add X feature?\n",
      "More features please\n",
      "I found a bug\n",
      "There's a problem with the app\n",
      "I encountered an issue\n",
      "The app isn't working properly\n",
      "Can you show me around the app?\n",
      "How does the app work?\n",
      "Give me a tour of the app\n",
      "What can I do in this app?\n",
      "I have some feedback about the app\n",
      "Can I provide feedback?\n",
      "I want to share my thoughts about the app\n",
      "How can I make the most out of this app?\n",
      "What are some tips for using this app effectively?\n",
      "I want to get the best results from this app\n",
      "What's your privacy policy?\n",
      "How do you handle my data?\n",
      "Is my information secure?\n",
      "Tell me more about this app\n",
      "What's the purpose of this app?\n",
      "Who developed this app?\n"
     ]
    }
   ],
   "source": [
    "for i,patterns in enumerate(df_patterns['patterns']):\n",
    "    Pre_proccessed_List = []\n",
    "    Existing_sents_List = df_patterns['patterns'].loc[i]\n",
    "    for sentence in Existing_sents_List:\n",
    "        print(sentence)\n",
    "        Pre_proccessed_List.append(lemmatize(clean(sentence)))\n",
    "        Pre_proccessed_List.append(stem(clean(sentence)))\n",
    "        Pre_proccessed_List.append(clean(random_deletion(nltk.word_tokenize(sentence))))\n",
    "        Pre_proccessed_List.append(clean(synonym_replacement(nltk.word_tokenize(sentence))))\n",
    "    Existing_sents_List.extend(Pre_proccessed_List)"
   ]
  },
  {
   "cell_type": "code",
   "execution_count": 20,
   "id": "bbb375dc-bb23-4eab-b223-6cd0924d5b6d",
   "metadata": {},
   "outputs": [],
   "source": [
    "df_patterns_train = df_patterns.explode('patterns')"
   ]
  },
  {
   "cell_type": "code",
   "execution_count": 21,
   "id": "b5e0aaf3-e539-4fdc-a138-c793662e5601",
   "metadata": {},
   "outputs": [
    {
     "name": "stdout",
     "output_type": "stream",
     "text": [
      "                        patterns tag\n",
      "0                             Hi   0\n",
      "1                          Hello   0\n",
      "2                            Hey   0\n",
      "3                   Good morning   0\n",
      "4                 Good afternoon   0\n",
      "..                           ...  ..\n",
      "225  what the design of this app  11\n",
      "226         who develop this app  11\n",
      "227          who develop thi app  11\n",
      "228                 develop this  11\n",
      "229             develop this app  11\n",
      "\n",
      "[230 rows x 2 columns]\n"
     ]
    }
   ],
   "source": [
    "df_patterns_train.reset_index(drop=True, inplace=True)\n",
    "print(df_patterns_train)"
   ]
  },
  {
   "cell_type": "code",
   "execution_count": 22,
   "id": "d49105fa-6edc-4d78-ae80-01e50fb10860",
   "metadata": {},
   "outputs": [],
   "source": [
    "X_train = []\n",
    "for sentence in df_patterns_train['patterns']:\n",
    "    doc = nlp(sentence)\n",
    "    X_train.append(doc.vector)"
   ]
  },
  {
   "cell_type": "code",
   "execution_count": 23,
   "id": "fd0426aa-5624-44a8-8398-592ab7acb015",
   "metadata": {
    "scrolled": true
   },
   "outputs": [
    {
     "data": {
      "text/plain": [
       "array([ 11.618   ,  -7.7895  ,   4.4404  ,  -1.2964  ,  -3.7925  ,\n",
       "         0.13122 ,   3.0552  ,  -4.0384  ,  -0.93526 ,   4.2015  ,\n",
       "        -5.3589  ,   4.5183  ,  -4.6501  ,   3.7295  ,   0.51439 ,\n",
       "        -7.0579  ,  -0.80911 ,   1.4454  ,  -1.8873  ,   3.5586  ,\n",
       "         5.1142  ,   3.3712  ,  -0.17961 ,  -8.7045  ,   3.4782  ,\n",
       "        -1.5345  ,  -2.2227  ,  -4.4678  ,  -7.1788  ,  -7.5381  ,\n",
       "        -5.7588  ,  -3.9471  ,  -4.0918  ,   4.5009  ,   1.2282  ,\n",
       "         4.2638  ,  -7.6763  ,  -3.975   ,  -0.12942 ,  -0.10574 ,\n",
       "         2.7062  ,   3.2303  ,  -3.2014  ,   0.87593 ,   3.8434  ,\n",
       "        -2.3847  ,  -3.9484  ,   2.0605  ,  -4.26    ,   0.72341 ,\n",
       "         5.2853  ,  -4.1931  ,  -3.3609  ,  -6.4365  ,   2.6142  ,\n",
       "        -3.7905  ,  -0.65833 ,  -1.9956  ,   0.41714 ,  -1.4288  ,\n",
       "         4.9303  ,   6.6759  ,  -2.3289  ,   0.88461 ,  -2.9958  ,\n",
       "        -0.20061 ,   0.8433  ,   5.0334  ,   1.7636  ,   1.0861  ,\n",
       "         3.4015  ,   4.4063  ,  -5.4782  ,  -8.2889  ,   4.6938  ,\n",
       "        -1.0641  ,  -1.5492  ,  -1.7223  ,  -0.29759 ,  -6.6412  ,\n",
       "         8.6059  ,  -5.1733  ,  -0.47195 ,   3.7802  ,   0.4215  ,\n",
       "         1.1542  ,   9.0253  ,  -2.1571  ,   5.0045  ,  -0.2796  ,\n",
       "         1.1523  ,   8.1311  ,  -0.08372 ,  -4.4925  ,  -6.8897  ,\n",
       "         0.97738 ,  -1.9508  ,  -6.3172  ,  -4.832   ,   0.97431 ,\n",
       "        -0.14247 ,  -0.32125 ,   0.29111 ,  -0.39083 ,   5.2034  ,\n",
       "         5.2431  ,   2.8613  ,   2.6775  ,   0.27521 ,   1.1614  ,\n",
       "        -5.915   ,  -3.6742  ,   6.3759  ,  -0.56556 ,   2.072   ,\n",
       "        -4.6569  ,   6.0819  ,  -2.9024  ,   0.57119 ,  -6.5575  ,\n",
       "        -6.905   ,   1.4002  ,  -2.5994  ,   6.4765  ,   1.3512  ,\n",
       "         4.8671  ,  -7.8363  ,   1.229   ,  -1.3325  ,  -3.7336  ,\n",
       "        -2.9042  ,   4.4483  , -10.997   ,  -1.0363  ,   4.2018  ,\n",
       "        -6.5111  ,   3.5384  ,  -4.5741  ,   1.2839  ,   6.5163  ,\n",
       "         5.4938  ,   5.311   ,   3.7148  ,  -3.1493  ,  -1.891   ,\n",
       "        -7.0884  ,   2.622   ,  -4.9529  ,  -1.9289  ,  -1.0651  ,\n",
       "         2.4593  ,  -0.93103 ,  -6.299   ,  -2.4984  ,  -1.5704  ,\n",
       "         1.0162  ,  -3.2128  ,   0.7005  ,  -4.4929  ,  -1.2285  ,\n",
       "         2.3635  ,  -2.166   ,  -1.1656  ,   0.43571 ,   2.9079  ,\n",
       "         1.2158  ,   2.8303  ,  -3.4188  ,  -2.8624  ,  -3.2054  ,\n",
       "         4.8907  ,  -6.0686  ,  -1.8729  ,  -1.7579  ,   1.7205  ,\n",
       "        -8.0344  ,  -4.3627  ,   3.6274  ,  -0.86997 ,   5.1467  ,\n",
       "        -1.0516  ,   5.3264  ,   0.66651 ,  -5.2196  ,  -2.392   ,\n",
       "         8.6433  ,   1.008   ,  -4.3326  ,   0.45071 ,  -0.5555  ,\n",
       "        -1.0047  ,   5.3664  ,  -4.7593  ,   1.1818  ,   5.1111  ,\n",
       "         6.1874  ,  -1.4872  ,   2.0829  ,   2.6649  ,   0.43998 ,\n",
       "        -2.1291  ,   0.27022 ,  -3.3689  ,   8.7134  ,  -1.0825  ,\n",
       "        -3.4742  ,   2.9543  ,   1.5797  ,   2.9966  ,  -6.083   ,\n",
       "         2.9517  ,  -2.1898  ,   1.3746  ,  -7.799   ,  -5.6013  ,\n",
       "        -4.0722  ,   2.9438  ,  -3.8672  ,   4.9453  ,   3.3239  ,\n",
       "        -1.8067  ,   1.478   ,  -3.6651  ,  -2.1714  ,   5.4381  ,\n",
       "         2.4675  ,   2.9905  ,  -1.6325  ,  -2.4705  ,  -1.0097  ,\n",
       "        -9.0565  ,  -0.39369 ,  -2.5063  ,  -2.1209  ,  -0.32453 ,\n",
       "        -5.1129  ,   2.8251  ,   2.0994  ,   5.0783  ,   2.4784  ,\n",
       "        -2.5596  ,   0.24487 ,   0.051054,   1.6652  ,   4.6252  ,\n",
       "        -3.5624  ,   4.6291  ,   1.4367  ,   1.0588  ,   0.23433 ,\n",
       "        -2.7817  ,   3.2976  ,  -0.85668 ,  -1.6424  ,   2.6006  ,\n",
       "        -8.9862  ,  -3.3606  ,   1.0652  ,  -3.9674  ,   4.0401  ,\n",
       "        -0.88445 ,  -7.2772  ,  -0.30152 ,  -1.6116  ,   0.69663 ,\n",
       "        -0.71423 ,  -4.6217  ,  -5.8844  ,   6.248   ,   4.0331  ,\n",
       "        -2.9504  ,   1.5637  ,  -1.1411  ,  -1.3141  ,  -1.416   ,\n",
       "         0.20422 ,   6.3234  ,   0.38416 ,  -0.89278 ,   0.1991  ,\n",
       "        -7.078   ,   2.2152  ,  -5.2033  ,  -3.0354  ,   4.1866  ,\n",
       "         2.4644  ,   9.2236  ,   5.2446  ,   0.35734 ,   1.4632  ,\n",
       "        -3.0766  ,   3.8415  ,   0.85547 ,  -0.55387 ,  -2.6208  ,\n",
       "        -4.4613  ,   1.0687  ,  -4.1385  ,   0.049123,   3.5613  ],\n",
       "      dtype=float32)"
      ]
     },
     "execution_count": 23,
     "metadata": {},
     "output_type": "execute_result"
    }
   ],
   "source": [
    "X_train[0]"
   ]
  },
  {
   "cell_type": "code",
   "execution_count": 24,
   "id": "9ac14757-d0c1-41f4-a291-fde316274562",
   "metadata": {},
   "outputs": [
    {
     "data": {
      "text/plain": [
       "(300,)"
      ]
     },
     "execution_count": 24,
     "metadata": {},
     "output_type": "execute_result"
    }
   ],
   "source": [
    "X_train[0].shape"
   ]
  },
  {
   "cell_type": "code",
   "execution_count": 25,
   "id": "41aa8cf6-82b0-46de-8732-b0f4c8277fb1",
   "metadata": {},
   "outputs": [
    {
     "data": {
      "text/plain": [
       "(300,)"
      ]
     },
     "execution_count": 25,
     "metadata": {},
     "output_type": "execute_result"
    }
   ],
   "source": [
    "X_train[0].shape"
   ]
  },
  {
   "cell_type": "code",
   "execution_count": 26,
   "id": "2870246b-f8d2-4274-a775-ce1d5289d56c",
   "metadata": {},
   "outputs": [],
   "source": [
    "X_train = np.array(X_train)"
   ]
  },
  {
   "cell_type": "code",
   "execution_count": 27,
   "id": "08b56d87-8df2-4ada-9e2e-92b67529c51c",
   "metadata": {},
   "outputs": [
    {
     "data": {
      "text/plain": [
       "array([[11.618     , -7.7895    ,  4.4404    , ..., -4.1385    ,\n",
       "         0.049123  ,  3.5613    ],\n",
       "       [ 4.5354    , -2.1455    ,  2.068     , ...,  0.99953   ,\n",
       "        -0.89679   ,  1.69      ],\n",
       "       [ 2.9       ,  0.48218   , -2.2693    , ...,  4.1293    ,\n",
       "         2.247     ,  0.35988   ],\n",
       "       ...,\n",
       "       [-1.099095  ,  1.3987875 ,  0.34864998, ..., -1.413715  ,\n",
       "        -2.8751    ,  2.37323   ],\n",
       "       [-0.55210006,  2.9096498 , -1.67515   , ..., -1.4742501 ,\n",
       "        -3.1082    ,  2.38475   ],\n",
       "       [ 1.6170667 ,  2.82      ,  0.6730667 , ..., -2.1270335 ,\n",
       "        -3.3191335 ,  4.0084996 ]], dtype=float32)"
      ]
     },
     "execution_count": 27,
     "metadata": {},
     "output_type": "execute_result"
    }
   ],
   "source": [
    "X_train"
   ]
  },
  {
   "cell_type": "code",
   "execution_count": 28,
   "id": "fec3b11f-642d-450b-8e6b-10e01432dae1",
   "metadata": {},
   "outputs": [],
   "source": [
    "X_train_reshaped = np.reshape(X_train, (X_train.shape[0], 1, -1))"
   ]
  },
  {
   "cell_type": "code",
   "execution_count": 29,
   "id": "c3831422-f911-4c50-9b52-36ab5c6cbf49",
   "metadata": {},
   "outputs": [
    {
     "data": {
      "text/plain": [
       "(1, 300)"
      ]
     },
     "execution_count": 29,
     "metadata": {},
     "output_type": "execute_result"
    }
   ],
   "source": [
    "X_train_reshaped[0].shape"
   ]
  },
  {
   "cell_type": "code",
   "execution_count": 30,
   "id": "8cc11ccc-d75f-450a-9b21-487432030393",
   "metadata": {},
   "outputs": [],
   "source": [
    "y_train = []\n",
    "\n",
    "for tag in df_patterns_train['tag']:\n",
    "    y_train.append(int(tag))"
   ]
  },
  {
   "cell_type": "code",
   "execution_count": 31,
   "id": "6ca2734a-1d37-4d08-88eb-7b8d4f8fd87d",
   "metadata": {
    "scrolled": true
   },
   "outputs": [
    {
     "data": {
      "text/plain": [
       "[0,\n",
       " 0,\n",
       " 0,\n",
       " 0,\n",
       " 0,\n",
       " 0,\n",
       " 0,\n",
       " 0,\n",
       " 0,\n",
       " 0,\n",
       " 0,\n",
       " 0,\n",
       " 0,\n",
       " 0,\n",
       " 0,\n",
       " 0,\n",
       " 0,\n",
       " 0,\n",
       " 0,\n",
       " 0,\n",
       " 0,\n",
       " 0,\n",
       " 0,\n",
       " 0,\n",
       " 0,\n",
       " 0,\n",
       " 0,\n",
       " 0,\n",
       " 0,\n",
       " 0,\n",
       " 1,\n",
       " 1,\n",
       " 1,\n",
       " 1,\n",
       " 1,\n",
       " 1,\n",
       " 1,\n",
       " 1,\n",
       " 1,\n",
       " 1,\n",
       " 1,\n",
       " 1,\n",
       " 1,\n",
       " 1,\n",
       " 1,\n",
       " 1,\n",
       " 1,\n",
       " 1,\n",
       " 1,\n",
       " 1,\n",
       " 2,\n",
       " 2,\n",
       " 2,\n",
       " 2,\n",
       " 2,\n",
       " 2,\n",
       " 2,\n",
       " 2,\n",
       " 2,\n",
       " 2,\n",
       " 2,\n",
       " 2,\n",
       " 2,\n",
       " 2,\n",
       " 2,\n",
       " 2,\n",
       " 2,\n",
       " 2,\n",
       " 2,\n",
       " 2,\n",
       " 3,\n",
       " 3,\n",
       " 3,\n",
       " 3,\n",
       " 3,\n",
       " 3,\n",
       " 3,\n",
       " 3,\n",
       " 3,\n",
       " 3,\n",
       " 3,\n",
       " 3,\n",
       " 3,\n",
       " 3,\n",
       " 3,\n",
       " 3,\n",
       " 3,\n",
       " 3,\n",
       " 3,\n",
       " 3,\n",
       " 4,\n",
       " 4,\n",
       " 4,\n",
       " 4,\n",
       " 4,\n",
       " 4,\n",
       " 4,\n",
       " 4,\n",
       " 4,\n",
       " 4,\n",
       " 4,\n",
       " 4,\n",
       " 4,\n",
       " 4,\n",
       " 4,\n",
       " 4,\n",
       " 4,\n",
       " 4,\n",
       " 4,\n",
       " 4,\n",
       " 5,\n",
       " 5,\n",
       " 5,\n",
       " 5,\n",
       " 5,\n",
       " 5,\n",
       " 5,\n",
       " 5,\n",
       " 5,\n",
       " 5,\n",
       " 5,\n",
       " 5,\n",
       " 5,\n",
       " 5,\n",
       " 5,\n",
       " 5,\n",
       " 5,\n",
       " 5,\n",
       " 5,\n",
       " 5,\n",
       " 6,\n",
       " 6,\n",
       " 6,\n",
       " 6,\n",
       " 6,\n",
       " 6,\n",
       " 6,\n",
       " 6,\n",
       " 6,\n",
       " 6,\n",
       " 6,\n",
       " 6,\n",
       " 6,\n",
       " 6,\n",
       " 6,\n",
       " 6,\n",
       " 6,\n",
       " 6,\n",
       " 6,\n",
       " 6,\n",
       " 7,\n",
       " 7,\n",
       " 7,\n",
       " 7,\n",
       " 7,\n",
       " 7,\n",
       " 7,\n",
       " 7,\n",
       " 7,\n",
       " 7,\n",
       " 7,\n",
       " 7,\n",
       " 7,\n",
       " 7,\n",
       " 7,\n",
       " 7,\n",
       " 7,\n",
       " 7,\n",
       " 7,\n",
       " 7,\n",
       " 8,\n",
       " 8,\n",
       " 8,\n",
       " 8,\n",
       " 8,\n",
       " 8,\n",
       " 8,\n",
       " 8,\n",
       " 8,\n",
       " 8,\n",
       " 8,\n",
       " 8,\n",
       " 8,\n",
       " 8,\n",
       " 8,\n",
       " 9,\n",
       " 9,\n",
       " 9,\n",
       " 9,\n",
       " 9,\n",
       " 9,\n",
       " 9,\n",
       " 9,\n",
       " 9,\n",
       " 9,\n",
       " 9,\n",
       " 9,\n",
       " 9,\n",
       " 9,\n",
       " 9,\n",
       " 10,\n",
       " 10,\n",
       " 10,\n",
       " 10,\n",
       " 10,\n",
       " 10,\n",
       " 10,\n",
       " 10,\n",
       " 10,\n",
       " 10,\n",
       " 10,\n",
       " 10,\n",
       " 10,\n",
       " 10,\n",
       " 10,\n",
       " 11,\n",
       " 11,\n",
       " 11,\n",
       " 11,\n",
       " 11,\n",
       " 11,\n",
       " 11,\n",
       " 11,\n",
       " 11,\n",
       " 11,\n",
       " 11,\n",
       " 11,\n",
       " 11,\n",
       " 11,\n",
       " 11]"
      ]
     },
     "execution_count": 31,
     "metadata": {},
     "output_type": "execute_result"
    }
   ],
   "source": [
    "y_train"
   ]
  },
  {
   "cell_type": "code",
   "execution_count": 32,
   "id": "a3424a34-f824-45e0-acc6-3cdafb229371",
   "metadata": {},
   "outputs": [],
   "source": [
    "y_train = np.array(y_train)"
   ]
  },
  {
   "cell_type": "code",
   "execution_count": 33,
   "id": "cfab9315-b476-4a15-bfb7-b32bf83fd467",
   "metadata": {},
   "outputs": [
    {
     "data": {
      "text/plain": [
       "array([ 0,  0,  0,  0,  0,  0,  0,  0,  0,  0,  0,  0,  0,  0,  0,  0,  0,\n",
       "        0,  0,  0,  0,  0,  0,  0,  0,  0,  0,  0,  0,  0,  1,  1,  1,  1,\n",
       "        1,  1,  1,  1,  1,  1,  1,  1,  1,  1,  1,  1,  1,  1,  1,  1,  2,\n",
       "        2,  2,  2,  2,  2,  2,  2,  2,  2,  2,  2,  2,  2,  2,  2,  2,  2,\n",
       "        2,  2,  3,  3,  3,  3,  3,  3,  3,  3,  3,  3,  3,  3,  3,  3,  3,\n",
       "        3,  3,  3,  3,  3,  4,  4,  4,  4,  4,  4,  4,  4,  4,  4,  4,  4,\n",
       "        4,  4,  4,  4,  4,  4,  4,  4,  5,  5,  5,  5,  5,  5,  5,  5,  5,\n",
       "        5,  5,  5,  5,  5,  5,  5,  5,  5,  5,  5,  6,  6,  6,  6,  6,  6,\n",
       "        6,  6,  6,  6,  6,  6,  6,  6,  6,  6,  6,  6,  6,  6,  7,  7,  7,\n",
       "        7,  7,  7,  7,  7,  7,  7,  7,  7,  7,  7,  7,  7,  7,  7,  7,  7,\n",
       "        8,  8,  8,  8,  8,  8,  8,  8,  8,  8,  8,  8,  8,  8,  8,  9,  9,\n",
       "        9,  9,  9,  9,  9,  9,  9,  9,  9,  9,  9,  9,  9, 10, 10, 10, 10,\n",
       "       10, 10, 10, 10, 10, 10, 10, 10, 10, 10, 10, 11, 11, 11, 11, 11, 11,\n",
       "       11, 11, 11, 11, 11, 11, 11, 11, 11])"
      ]
     },
     "execution_count": 33,
     "metadata": {},
     "output_type": "execute_result"
    }
   ],
   "source": [
    "y_train"
   ]
  },
  {
   "cell_type": "code",
   "execution_count": 34,
   "id": "82dfbfd1-b2b4-4bd5-891e-1ea4c84df49e",
   "metadata": {},
   "outputs": [],
   "source": [
    "from tensorflow.keras.layers import Conv1D, GlobalMaxPooling1D, Dense, BatchNormalization\n",
    "from tensorflow.keras.callbacks import TensorBoard"
   ]
  },
  {
   "cell_type": "code",
   "execution_count": 1,
   "id": "3251c14b-9410-44ec-bfe3-25b7e3b51b7a",
   "metadata": {
    "scrolled": true
   },
   "outputs": [
    {
     "name": "stderr",
     "output_type": "stream",
     "text": [
      "<>:22: SyntaxWarning: invalid escape sequence '\\H'\n",
      "<>:22: SyntaxWarning: invalid escape sequence '\\H'\n",
      "C:\\Users\\HP\\AppData\\Local\\Temp\\ipykernel_12820\\608903692.py:22: SyntaxWarning: invalid escape sequence '\\H'\n",
      "  model.save('D:\\HAWN\\Model')\n",
      "C:\\Users\\HP\\AppData\\Local\\Temp\\ipykernel_12820\\608903692.py:22: SyntaxWarning: invalid escape sequence '\\H'\n",
      "  model.save('D:\\HAWN\\Model')\n",
      "\n",
      "KeyboardInterrupt\n",
      "\n"
     ]
    }
   ],
   "source": [
    "import tensorflow as tf\n",
    "import datetime\n",
    "\n",
    "\n",
    "model = tf.keras.Sequential([\n",
    "    tf.keras.layers.Conv1D(filters=64, kernel_size=5, activation='relu', input_shape=(300, 1)),\n",
    "    tf.keras.layers.GlobalMaxPooling1D(),\n",
    "    tf.keras.layers.Dense(64, activation='relu'),\n",
    "    tf.keras.layers.Dense(12, activation='softmax')  # Output layer with 12 units and softmax activation for multi-class classification\n",
    "])\n",
    "\n",
    "model.compile(optimizer='adam', loss='sparse_categorical_crossentropy', metrics=['accuracy'])\n",
    "model.summary()\n",
    "\n",
    "logdir=\"logs/fit/\" + datetime.time().strftime(\"%Y%m%d-%H%M%S\")\n",
    "tensorboard_callback = keras.callbacks.TensorBoard(log_dir=logdir)\n",
    "# Train the model with TensorBoard callback\n",
    "model.fit(X_train, y_train, epochs=400, callbacks=[tensorboard_callback])\n",
    "\n",
    "%tensorboard --logdir logs/scalars\n",
    "\n",
    "model.save('D:\\HAWN\\Model')"
   ]
  },
  {
   "cell_type": "code",
   "execution_count": 39,
   "id": "da6b48b3-7ef3-4ab7-b4b0-59804eda4061",
   "metadata": {},
   "outputs": [
    {
     "name": "stdout",
     "output_type": "stream",
     "text": [
      "\u001b[1m1/1\u001b[0m \u001b[32m━━━━━━━━━━━━━━━━━━━━\u001b[0m\u001b[37m\u001b[0m \u001b[1m0s\u001b[0m 26ms/step\n"
     ]
    },
    {
     "data": {
      "text/plain": [
       "7"
      ]
     },
     "execution_count": 39,
     "metadata": {},
     "output_type": "execute_result"
    }
   ],
   "source": [
    "sentence = 'Can you show me around the app?'\n",
    "sentence = stem(clean(sentence))\n",
    "doc = nlp(sentence)\n",
    "vector = doc.vector\n",
    "vector = np.reshape(vector, (1, 300,1))\n",
    "np.argmax(model.predict(vector))"
   ]
  },
  {
   "cell_type": "code",
   "execution_count": 50,
   "id": "7bf72280-487d-4a2f-b590-dad5304342bb",
   "metadata": {},
   "outputs": [],
   "source": [
    "# all the sentences used in testing are different except the first one"
   ]
  },
  {
   "cell_type": "code",
   "execution_count": 45,
   "id": "6c7be738-0d2c-4e7d-9b75-1d054ec5d148",
   "metadata": {},
   "outputs": [
    {
     "name": "stdin",
     "output_type": "stream",
     "text": [
      "User:  Tell me more about this app\n"
     ]
    },
    {
     "name": "stdout",
     "output_type": "stream",
     "text": [
      "\u001b[1m1/1\u001b[0m \u001b[32m━━━━━━━━━━━━━━━━━━━━\u001b[0m\u001b[37m\u001b[0m \u001b[1m0s\u001b[0m 47ms/step\n",
      "11\n"
     ]
    },
    {
     "name": "stdin",
     "output_type": "stream",
     "text": [
      "User:  Tell me more about this app\n"
     ]
    },
    {
     "name": "stdout",
     "output_type": "stream",
     "text": [
      "\u001b[1m1/1\u001b[0m \u001b[32m━━━━━━━━━━━━━━━━━━━━\u001b[0m\u001b[37m\u001b[0m \u001b[1m0s\u001b[0m 44ms/step\n",
      "11\n"
     ]
    },
    {
     "name": "stdin",
     "output_type": "stream",
     "text": [
      "User:  What can this app do?\n"
     ]
    },
    {
     "name": "stdout",
     "output_type": "stream",
     "text": [
      "\u001b[1m1/1\u001b[0m \u001b[32m━━━━━━━━━━━━━━━━━━━━\u001b[0m\u001b[37m\u001b[0m \u001b[1m0s\u001b[0m 37ms/step\n",
      "I dont Understand 0.40357852 5\n"
     ]
    },
    {
     "name": "stdin",
     "output_type": "stream",
     "text": [
      "User:  How does this app work? \n"
     ]
    },
    {
     "name": "stdout",
     "output_type": "stream",
     "text": [
      "\u001b[1m1/1\u001b[0m \u001b[32m━━━━━━━━━━━━━━━━━━━━\u001b[0m\u001b[37m\u001b[0m \u001b[1m0s\u001b[0m 24ms/step\n",
      "7\n"
     ]
    },
    {
     "name": "stdin",
     "output_type": "stream",
     "text": [
      "User:  What are the features of this app? \n"
     ]
    },
    {
     "name": "stdout",
     "output_type": "stream",
     "text": [
      "\u001b[1m1/1\u001b[0m \u001b[32m━━━━━━━━━━━━━━━━━━━━\u001b[0m\u001b[37m\u001b[0m \u001b[1m0s\u001b[0m 31ms/step\n",
      "1\n"
     ]
    },
    {
     "name": "stdin",
     "output_type": "stream",
     "text": [
      "User:  Is there anything interesting about this app?\n"
     ]
    },
    {
     "name": "stdout",
     "output_type": "stream",
     "text": [
      "\u001b[1m1/1\u001b[0m \u001b[32m━━━━━━━━━━━━━━━━━━━━\u001b[0m\u001b[37m\u001b[0m \u001b[1m0s\u001b[0m 51ms/step\n",
      "1\n"
     ]
    },
    {
     "name": "stdin",
     "output_type": "stream",
     "text": [
      "User:  I'm curious about this app, can you elaborate?\n"
     ]
    },
    {
     "name": "stdout",
     "output_type": "stream",
     "text": [
      "\u001b[1m1/1\u001b[0m \u001b[32m━━━━━━━━━━━━━━━━━━━━\u001b[0m\u001b[37m\u001b[0m \u001b[1m0s\u001b[0m 31ms/step\n",
      "I dont Understand 0.36335185 11\n"
     ]
    },
    {
     "ename": "KeyboardInterrupt",
     "evalue": "Interrupted by user",
     "output_type": "error",
     "traceback": [
      "\u001b[1;31m---------------------------------------------------------------------------\u001b[0m",
      "\u001b[1;31mKeyboardInterrupt\u001b[0m                         Traceback (most recent call last)",
      "Cell \u001b[1;32mIn[45], line 2\u001b[0m\n\u001b[0;32m      1\u001b[0m \u001b[38;5;28;01mwhile\u001b[39;00m \u001b[38;5;28;01mTrue\u001b[39;00m:\n\u001b[1;32m----> 2\u001b[0m     User_input \u001b[38;5;241m=\u001b[39m \u001b[38;5;28minput\u001b[39m(\u001b[38;5;124m'\u001b[39m\u001b[38;5;124mUser: \u001b[39m\u001b[38;5;124m'\u001b[39m)\n\u001b[0;32m      3\u001b[0m     sentence \u001b[38;5;241m=\u001b[39m stem(clean(User_input))\n\u001b[0;32m      4\u001b[0m     doc \u001b[38;5;241m=\u001b[39m nlp(sentence)\n",
      "File \u001b[1;32mD:\\anaconda3\\envs\\tensorflow_learn\\Lib\\site-packages\\ipykernel\\kernelbase.py:1262\u001b[0m, in \u001b[0;36mKernel.raw_input\u001b[1;34m(self, prompt)\u001b[0m\n\u001b[0;32m   1260\u001b[0m     msg \u001b[38;5;241m=\u001b[39m \u001b[38;5;124m\"\u001b[39m\u001b[38;5;124mraw_input was called, but this frontend does not support input requests.\u001b[39m\u001b[38;5;124m\"\u001b[39m\n\u001b[0;32m   1261\u001b[0m     \u001b[38;5;28;01mraise\u001b[39;00m StdinNotImplementedError(msg)\n\u001b[1;32m-> 1262\u001b[0m \u001b[38;5;28;01mreturn\u001b[39;00m \u001b[38;5;28mself\u001b[39m\u001b[38;5;241m.\u001b[39m_input_request(\n\u001b[0;32m   1263\u001b[0m     \u001b[38;5;28mstr\u001b[39m(prompt),\n\u001b[0;32m   1264\u001b[0m     \u001b[38;5;28mself\u001b[39m\u001b[38;5;241m.\u001b[39m_parent_ident[\u001b[38;5;124m\"\u001b[39m\u001b[38;5;124mshell\u001b[39m\u001b[38;5;124m\"\u001b[39m],\n\u001b[0;32m   1265\u001b[0m     \u001b[38;5;28mself\u001b[39m\u001b[38;5;241m.\u001b[39mget_parent(\u001b[38;5;124m\"\u001b[39m\u001b[38;5;124mshell\u001b[39m\u001b[38;5;124m\"\u001b[39m),\n\u001b[0;32m   1266\u001b[0m     password\u001b[38;5;241m=\u001b[39m\u001b[38;5;28;01mFalse\u001b[39;00m,\n\u001b[0;32m   1267\u001b[0m )\n",
      "File \u001b[1;32mD:\\anaconda3\\envs\\tensorflow_learn\\Lib\\site-packages\\ipykernel\\kernelbase.py:1305\u001b[0m, in \u001b[0;36mKernel._input_request\u001b[1;34m(self, prompt, ident, parent, password)\u001b[0m\n\u001b[0;32m   1302\u001b[0m \u001b[38;5;28;01mexcept\u001b[39;00m \u001b[38;5;167;01mKeyboardInterrupt\u001b[39;00m:\n\u001b[0;32m   1303\u001b[0m     \u001b[38;5;66;03m# re-raise KeyboardInterrupt, to truncate traceback\u001b[39;00m\n\u001b[0;32m   1304\u001b[0m     msg \u001b[38;5;241m=\u001b[39m \u001b[38;5;124m\"\u001b[39m\u001b[38;5;124mInterrupted by user\u001b[39m\u001b[38;5;124m\"\u001b[39m\n\u001b[1;32m-> 1305\u001b[0m     \u001b[38;5;28;01mraise\u001b[39;00m \u001b[38;5;167;01mKeyboardInterrupt\u001b[39;00m(msg) \u001b[38;5;28;01mfrom\u001b[39;00m \u001b[38;5;28;01mNone\u001b[39;00m\n\u001b[0;32m   1306\u001b[0m \u001b[38;5;28;01mexcept\u001b[39;00m \u001b[38;5;167;01mException\u001b[39;00m:\n\u001b[0;32m   1307\u001b[0m     \u001b[38;5;28mself\u001b[39m\u001b[38;5;241m.\u001b[39mlog\u001b[38;5;241m.\u001b[39mwarning(\u001b[38;5;124m\"\u001b[39m\u001b[38;5;124mInvalid Message:\u001b[39m\u001b[38;5;124m\"\u001b[39m, exc_info\u001b[38;5;241m=\u001b[39m\u001b[38;5;28;01mTrue\u001b[39;00m)\n",
      "\u001b[1;31mKeyboardInterrupt\u001b[0m: Interrupted by user"
     ]
    }
   ],
   "source": [
    "while True:\n",
    "    User_input = input('User: ')\n",
    "    sentence = stem(clean(User_input))\n",
    "    doc = nlp(sentence)\n",
    "    vector = doc.vector\n",
    "    vector = np.reshape(vector, (1, 300,1))\n",
    "    predictions = model.predict(vector)\n",
    "    predicted_class_index = np.argmax(predictions)\n",
    "    predicted_class_probability = predictions[0][predicted_class_index]\n",
    "    if predicted_class_probability > 0.6:\n",
    "        print(predicted_class_index)\n",
    "    else:\n",
    "        print('I dont Understand', predicted_class_probability, predicted_class_index)"
   ]
  },
  {
   "cell_type": "code",
   "execution_count": 47,
   "id": "c13e16f2-8d6a-4472-b00b-ce4798b96a5a",
   "metadata": {},
   "outputs": [
    {
     "name": "stdin",
     "output_type": "stream",
     "text": [
      "User:  Tell me more about this app\n"
     ]
    },
    {
     "name": "stdout",
     "output_type": "stream",
     "text": [
      "\u001b[1m1/1\u001b[0m \u001b[32m━━━━━━━━━━━━━━━━━━━━\u001b[0m\u001b[37m\u001b[0m \u001b[1m0s\u001b[0m 31ms/step\n",
      "11\n"
     ]
    },
    {
     "name": "stdin",
     "output_type": "stream",
     "text": [
      "User:  How does this app work?\n"
     ]
    },
    {
     "name": "stdout",
     "output_type": "stream",
     "text": [
      "\u001b[1m1/1\u001b[0m \u001b[32m━━━━━━━━━━━━━━━━━━━━\u001b[0m\u001b[37m\u001b[0m \u001b[1m0s\u001b[0m 47ms/step\n",
      "4\n"
     ]
    },
    {
     "name": "stdin",
     "output_type": "stream",
     "text": [
      "User:  What are the features of this app? \n"
     ]
    },
    {
     "name": "stdout",
     "output_type": "stream",
     "text": [
      "\u001b[1m1/1\u001b[0m \u001b[32m━━━━━━━━━━━━━━━━━━━━\u001b[0m\u001b[37m\u001b[0m \u001b[1m0s\u001b[0m 47ms/step\n",
      "9\n"
     ]
    },
    {
     "name": "stdin",
     "output_type": "stream",
     "text": [
      "User:  Is there anything interesting about this app? \n"
     ]
    },
    {
     "name": "stdout",
     "output_type": "stream",
     "text": [
      "\u001b[1m1/1\u001b[0m \u001b[32m━━━━━━━━━━━━━━━━━━━━\u001b[0m\u001b[37m\u001b[0m \u001b[1m0s\u001b[0m 31ms/step\n",
      "I dont Understand 0.34150308 4\n"
     ]
    },
    {
     "name": "stdin",
     "output_type": "stream",
     "text": [
      "User:  I'm curious about this app, can you elaborate?\n"
     ]
    },
    {
     "name": "stdout",
     "output_type": "stream",
     "text": [
      "\u001b[1m1/1\u001b[0m \u001b[32m━━━━━━━━━━━━━━━━━━━━\u001b[0m\u001b[37m\u001b[0m \u001b[1m0s\u001b[0m 47ms/step\n",
      "I dont Understand 0.37147018 11\n"
     ]
    },
    {
     "ename": "KeyboardInterrupt",
     "evalue": "Interrupted by user",
     "output_type": "error",
     "traceback": [
      "\u001b[1;31m---------------------------------------------------------------------------\u001b[0m",
      "\u001b[1;31mKeyboardInterrupt\u001b[0m                         Traceback (most recent call last)",
      "Cell \u001b[1;32mIn[47], line 3\u001b[0m\n\u001b[0;32m      1\u001b[0m \u001b[38;5;66;03m# clearly better after removing clean\u001b[39;00m\n\u001b[0;32m      2\u001b[0m \u001b[38;5;28;01mwhile\u001b[39;00m \u001b[38;5;28;01mTrue\u001b[39;00m:\n\u001b[1;32m----> 3\u001b[0m     User_input \u001b[38;5;241m=\u001b[39m \u001b[38;5;28minput\u001b[39m(\u001b[38;5;124m'\u001b[39m\u001b[38;5;124mUser: \u001b[39m\u001b[38;5;124m'\u001b[39m)\n\u001b[0;32m      4\u001b[0m     sentence \u001b[38;5;241m=\u001b[39m stem(User_input)\n\u001b[0;32m      5\u001b[0m     doc \u001b[38;5;241m=\u001b[39m nlp(sentence)\n",
      "File \u001b[1;32mD:\\anaconda3\\envs\\tensorflow_learn\\Lib\\site-packages\\ipykernel\\kernelbase.py:1262\u001b[0m, in \u001b[0;36mKernel.raw_input\u001b[1;34m(self, prompt)\u001b[0m\n\u001b[0;32m   1260\u001b[0m     msg \u001b[38;5;241m=\u001b[39m \u001b[38;5;124m\"\u001b[39m\u001b[38;5;124mraw_input was called, but this frontend does not support input requests.\u001b[39m\u001b[38;5;124m\"\u001b[39m\n\u001b[0;32m   1261\u001b[0m     \u001b[38;5;28;01mraise\u001b[39;00m StdinNotImplementedError(msg)\n\u001b[1;32m-> 1262\u001b[0m \u001b[38;5;28;01mreturn\u001b[39;00m \u001b[38;5;28mself\u001b[39m\u001b[38;5;241m.\u001b[39m_input_request(\n\u001b[0;32m   1263\u001b[0m     \u001b[38;5;28mstr\u001b[39m(prompt),\n\u001b[0;32m   1264\u001b[0m     \u001b[38;5;28mself\u001b[39m\u001b[38;5;241m.\u001b[39m_parent_ident[\u001b[38;5;124m\"\u001b[39m\u001b[38;5;124mshell\u001b[39m\u001b[38;5;124m\"\u001b[39m],\n\u001b[0;32m   1265\u001b[0m     \u001b[38;5;28mself\u001b[39m\u001b[38;5;241m.\u001b[39mget_parent(\u001b[38;5;124m\"\u001b[39m\u001b[38;5;124mshell\u001b[39m\u001b[38;5;124m\"\u001b[39m),\n\u001b[0;32m   1266\u001b[0m     password\u001b[38;5;241m=\u001b[39m\u001b[38;5;28;01mFalse\u001b[39;00m,\n\u001b[0;32m   1267\u001b[0m )\n",
      "File \u001b[1;32mD:\\anaconda3\\envs\\tensorflow_learn\\Lib\\site-packages\\ipykernel\\kernelbase.py:1305\u001b[0m, in \u001b[0;36mKernel._input_request\u001b[1;34m(self, prompt, ident, parent, password)\u001b[0m\n\u001b[0;32m   1302\u001b[0m \u001b[38;5;28;01mexcept\u001b[39;00m \u001b[38;5;167;01mKeyboardInterrupt\u001b[39;00m:\n\u001b[0;32m   1303\u001b[0m     \u001b[38;5;66;03m# re-raise KeyboardInterrupt, to truncate traceback\u001b[39;00m\n\u001b[0;32m   1304\u001b[0m     msg \u001b[38;5;241m=\u001b[39m \u001b[38;5;124m\"\u001b[39m\u001b[38;5;124mInterrupted by user\u001b[39m\u001b[38;5;124m\"\u001b[39m\n\u001b[1;32m-> 1305\u001b[0m     \u001b[38;5;28;01mraise\u001b[39;00m \u001b[38;5;167;01mKeyboardInterrupt\u001b[39;00m(msg) \u001b[38;5;28;01mfrom\u001b[39;00m \u001b[38;5;28;01mNone\u001b[39;00m\n\u001b[0;32m   1306\u001b[0m \u001b[38;5;28;01mexcept\u001b[39;00m \u001b[38;5;167;01mException\u001b[39;00m:\n\u001b[0;32m   1307\u001b[0m     \u001b[38;5;28mself\u001b[39m\u001b[38;5;241m.\u001b[39mlog\u001b[38;5;241m.\u001b[39mwarning(\u001b[38;5;124m\"\u001b[39m\u001b[38;5;124mInvalid Message:\u001b[39m\u001b[38;5;124m\"\u001b[39m, exc_info\u001b[38;5;241m=\u001b[39m\u001b[38;5;28;01mTrue\u001b[39;00m)\n",
      "\u001b[1;31mKeyboardInterrupt\u001b[0m: Interrupted by user"
     ]
    }
   ],
   "source": [
    "# clearly better after removing clean\n",
    "while True:\n",
    "    User_input = input('User: ')\n",
    "    sentence = stem(User_input)\n",
    "    doc = nlp(sentence)\n",
    "    vector = doc.vector\n",
    "    vector = np.reshape(vector, (1, 300,1))\n",
    "    predictions = model.predict(vector)\n",
    "    predicted_class_index = np.argmax(predictions)\n",
    "    predicted_class_probability = predictions[0][predicted_class_index]\n",
    "    if predicted_class_probability > 0.6:\n",
    "        print(predicted_class_index)\n",
    "    else:\n",
    "        print('I dont Understand', predicted_class_probability, predicted_class_index)"
   ]
  },
  {
   "cell_type": "code",
   "execution_count": 48,
   "id": "f9b55a05-62b9-4f24-9a62-c9e00488d714",
   "metadata": {},
   "outputs": [
    {
     "name": "stdin",
     "output_type": "stream",
     "text": [
      "User:  Tell me more about this app\n"
     ]
    },
    {
     "name": "stdout",
     "output_type": "stream",
     "text": [
      "\u001b[1m1/1\u001b[0m \u001b[32m━━━━━━━━━━━━━━━━━━━━\u001b[0m\u001b[37m\u001b[0m \u001b[1m0s\u001b[0m 36ms/step\n",
      "11\n"
     ]
    },
    {
     "name": "stdin",
     "output_type": "stream",
     "text": [
      "User:  What can this app do?\n"
     ]
    },
    {
     "name": "stdout",
     "output_type": "stream",
     "text": [
      "\u001b[1m1/1\u001b[0m \u001b[32m━━━━━━━━━━━━━━━━━━━━\u001b[0m\u001b[37m\u001b[0m \u001b[1m0s\u001b[0m 31ms/step\n",
      "I dont Understand 0.51486975 7\n"
     ]
    },
    {
     "name": "stdin",
     "output_type": "stream",
     "text": [
      "User:  How does this app work? \n"
     ]
    },
    {
     "name": "stdout",
     "output_type": "stream",
     "text": [
      "\u001b[1m1/1\u001b[0m \u001b[32m━━━━━━━━━━━━━━━━━━━━\u001b[0m\u001b[37m\u001b[0m \u001b[1m0s\u001b[0m 47ms/step\n",
      "4\n"
     ]
    },
    {
     "name": "stdin",
     "output_type": "stream",
     "text": [
      "User:  What are the features of this app? \n"
     ]
    },
    {
     "name": "stdout",
     "output_type": "stream",
     "text": [
      "\u001b[1m1/1\u001b[0m \u001b[32m━━━━━━━━━━━━━━━━━━━━\u001b[0m\u001b[37m\u001b[0m \u001b[1m0s\u001b[0m 31ms/step\n",
      "6\n"
     ]
    },
    {
     "name": "stdin",
     "output_type": "stream",
     "text": [
      "User:  Is there anything interesting about this app? \n"
     ]
    },
    {
     "name": "stdout",
     "output_type": "stream",
     "text": [
      "\u001b[1m1/1\u001b[0m \u001b[32m━━━━━━━━━━━━━━━━━━━━\u001b[0m\u001b[37m\u001b[0m \u001b[1m0s\u001b[0m 47ms/step\n",
      "I dont Understand 0.4556609 4\n"
     ]
    },
    {
     "name": "stdin",
     "output_type": "stream",
     "text": [
      "User:  I'm curious about this app, can you elaborate? \n"
     ]
    },
    {
     "name": "stdout",
     "output_type": "stream",
     "text": [
      "\u001b[1m1/1\u001b[0m \u001b[32m━━━━━━━━━━━━━━━━━━━━\u001b[0m\u001b[37m\u001b[0m \u001b[1m0s\u001b[0m 31ms/step\n",
      "I dont Understand 0.24178007 7\n"
     ]
    },
    {
     "ename": "KeyboardInterrupt",
     "evalue": "Interrupted by user",
     "output_type": "error",
     "traceback": [
      "\u001b[1;31m---------------------------------------------------------------------------\u001b[0m",
      "\u001b[1;31mKeyboardInterrupt\u001b[0m                         Traceback (most recent call last)",
      "Cell \u001b[1;32mIn[48], line 2\u001b[0m\n\u001b[0;32m      1\u001b[0m \u001b[38;5;28;01mwhile\u001b[39;00m \u001b[38;5;28;01mTrue\u001b[39;00m:\n\u001b[1;32m----> 2\u001b[0m     User_input \u001b[38;5;241m=\u001b[39m \u001b[38;5;28minput\u001b[39m(\u001b[38;5;124m'\u001b[39m\u001b[38;5;124mUser: \u001b[39m\u001b[38;5;124m'\u001b[39m)\n\u001b[0;32m      3\u001b[0m     sentence \u001b[38;5;241m=\u001b[39m lemmatize(User_input)\n\u001b[0;32m      4\u001b[0m     doc \u001b[38;5;241m=\u001b[39m nlp(sentence)\n",
      "File \u001b[1;32mD:\\anaconda3\\envs\\tensorflow_learn\\Lib\\site-packages\\ipykernel\\kernelbase.py:1262\u001b[0m, in \u001b[0;36mKernel.raw_input\u001b[1;34m(self, prompt)\u001b[0m\n\u001b[0;32m   1260\u001b[0m     msg \u001b[38;5;241m=\u001b[39m \u001b[38;5;124m\"\u001b[39m\u001b[38;5;124mraw_input was called, but this frontend does not support input requests.\u001b[39m\u001b[38;5;124m\"\u001b[39m\n\u001b[0;32m   1261\u001b[0m     \u001b[38;5;28;01mraise\u001b[39;00m StdinNotImplementedError(msg)\n\u001b[1;32m-> 1262\u001b[0m \u001b[38;5;28;01mreturn\u001b[39;00m \u001b[38;5;28mself\u001b[39m\u001b[38;5;241m.\u001b[39m_input_request(\n\u001b[0;32m   1263\u001b[0m     \u001b[38;5;28mstr\u001b[39m(prompt),\n\u001b[0;32m   1264\u001b[0m     \u001b[38;5;28mself\u001b[39m\u001b[38;5;241m.\u001b[39m_parent_ident[\u001b[38;5;124m\"\u001b[39m\u001b[38;5;124mshell\u001b[39m\u001b[38;5;124m\"\u001b[39m],\n\u001b[0;32m   1265\u001b[0m     \u001b[38;5;28mself\u001b[39m\u001b[38;5;241m.\u001b[39mget_parent(\u001b[38;5;124m\"\u001b[39m\u001b[38;5;124mshell\u001b[39m\u001b[38;5;124m\"\u001b[39m),\n\u001b[0;32m   1266\u001b[0m     password\u001b[38;5;241m=\u001b[39m\u001b[38;5;28;01mFalse\u001b[39;00m,\n\u001b[0;32m   1267\u001b[0m )\n",
      "File \u001b[1;32mD:\\anaconda3\\envs\\tensorflow_learn\\Lib\\site-packages\\ipykernel\\kernelbase.py:1305\u001b[0m, in \u001b[0;36mKernel._input_request\u001b[1;34m(self, prompt, ident, parent, password)\u001b[0m\n\u001b[0;32m   1302\u001b[0m \u001b[38;5;28;01mexcept\u001b[39;00m \u001b[38;5;167;01mKeyboardInterrupt\u001b[39;00m:\n\u001b[0;32m   1303\u001b[0m     \u001b[38;5;66;03m# re-raise KeyboardInterrupt, to truncate traceback\u001b[39;00m\n\u001b[0;32m   1304\u001b[0m     msg \u001b[38;5;241m=\u001b[39m \u001b[38;5;124m\"\u001b[39m\u001b[38;5;124mInterrupted by user\u001b[39m\u001b[38;5;124m\"\u001b[39m\n\u001b[1;32m-> 1305\u001b[0m     \u001b[38;5;28;01mraise\u001b[39;00m \u001b[38;5;167;01mKeyboardInterrupt\u001b[39;00m(msg) \u001b[38;5;28;01mfrom\u001b[39;00m \u001b[38;5;28;01mNone\u001b[39;00m\n\u001b[0;32m   1306\u001b[0m \u001b[38;5;28;01mexcept\u001b[39;00m \u001b[38;5;167;01mException\u001b[39;00m:\n\u001b[0;32m   1307\u001b[0m     \u001b[38;5;28mself\u001b[39m\u001b[38;5;241m.\u001b[39mlog\u001b[38;5;241m.\u001b[39mwarning(\u001b[38;5;124m\"\u001b[39m\u001b[38;5;124mInvalid Message:\u001b[39m\u001b[38;5;124m\"\u001b[39m, exc_info\u001b[38;5;241m=\u001b[39m\u001b[38;5;28;01mTrue\u001b[39;00m)\n",
      "\u001b[1;31mKeyboardInterrupt\u001b[0m: Interrupted by user"
     ]
    }
   ],
   "source": [
    "while True:\n",
    "    User_input = input('User: ')\n",
    "    sentence = lemmatize(User_input)\n",
    "    doc = nlp(sentence)\n",
    "    vector = doc.vector\n",
    "    vector = np.reshape(vector, (1, 300,1))\n",
    "    predictions = model.predict(vector)\n",
    "    predicted_class_index = np.argmax(predictions)\n",
    "    predicted_class_probability = predictions[0][predicted_class_index]\n",
    "    if predicted_class_probability > 0.6:\n",
    "        print(predicted_class_index)\n",
    "    else:\n",
    "        print('I dont Understand', predicted_class_probability, predicted_class_index)"
   ]
  },
  {
   "cell_type": "code",
   "execution_count": 51,
   "id": "42bac06a-ca55-4814-9c85-92ba72e8e130",
   "metadata": {},
   "outputs": [],
   "source": [
    "# Poor Using Lemmatization"
   ]
  },
  {
   "cell_type": "code",
   "execution_count": 53,
   "id": "bde3cd13-7e5b-4b1d-a7ff-83b0b4527f77",
   "metadata": {},
   "outputs": [
    {
     "name": "stdin",
     "output_type": "stream",
     "text": [
      "User:  Tell me More about this app\n"
     ]
    },
    {
     "name": "stdout",
     "output_type": "stream",
     "text": [
      "\u001b[1m1/1\u001b[0m \u001b[32m━━━━━━━━━━━━━━━━━━━━\u001b[0m\u001b[37m\u001b[0m \u001b[1m0s\u001b[0m 47ms/step\n",
      "11\n"
     ]
    },
    {
     "name": "stdin",
     "output_type": "stream",
     "text": [
      "User:  How does this app work? \n"
     ]
    },
    {
     "name": "stdout",
     "output_type": "stream",
     "text": [
      "\u001b[1m1/1\u001b[0m \u001b[32m━━━━━━━━━━━━━━━━━━━━\u001b[0m\u001b[37m\u001b[0m \u001b[1m0s\u001b[0m 31ms/step\n",
      "7\n"
     ]
    },
    {
     "name": "stdin",
     "output_type": "stream",
     "text": [
      "User:  What are the features of this app?\n"
     ]
    },
    {
     "name": "stdout",
     "output_type": "stream",
     "text": [
      "\u001b[1m1/1\u001b[0m \u001b[32m━━━━━━━━━━━━━━━━━━━━\u001b[0m\u001b[37m\u001b[0m \u001b[1m0s\u001b[0m 31ms/step\n",
      "I dont Understand 0.44931814 6\n"
     ]
    },
    {
     "name": "stdin",
     "output_type": "stream",
     "text": [
      "User:  Is there anything interesting about this app? \n"
     ]
    },
    {
     "name": "stdout",
     "output_type": "stream",
     "text": [
      "\u001b[1m1/1\u001b[0m \u001b[32m━━━━━━━━━━━━━━━━━━━━\u001b[0m\u001b[37m\u001b[0m \u001b[1m0s\u001b[0m 31ms/step\n",
      "1\n"
     ]
    },
    {
     "name": "stdin",
     "output_type": "stream",
     "text": [
      "User:  I'm curious about this app, can you elaborate?\n"
     ]
    },
    {
     "name": "stdout",
     "output_type": "stream",
     "text": [
      "\u001b[1m1/1\u001b[0m \u001b[32m━━━━━━━━━━━━━━━━━━━━\u001b[0m\u001b[37m\u001b[0m \u001b[1m0s\u001b[0m 31ms/step\n",
      "I dont Understand 0.5859932 7\n"
     ]
    },
    {
     "ename": "KeyboardInterrupt",
     "evalue": "Interrupted by user",
     "output_type": "error",
     "traceback": [
      "\u001b[1;31m---------------------------------------------------------------------------\u001b[0m",
      "\u001b[1;31mKeyboardInterrupt\u001b[0m                         Traceback (most recent call last)",
      "Cell \u001b[1;32mIn[53], line 2\u001b[0m\n\u001b[0;32m      1\u001b[0m \u001b[38;5;28;01mwhile\u001b[39;00m \u001b[38;5;28;01mTrue\u001b[39;00m:\n\u001b[1;32m----> 2\u001b[0m     User_input \u001b[38;5;241m=\u001b[39m \u001b[38;5;28minput\u001b[39m(\u001b[38;5;124m'\u001b[39m\u001b[38;5;124mUser: \u001b[39m\u001b[38;5;124m'\u001b[39m)\n\u001b[0;32m      3\u001b[0m     sentence \u001b[38;5;241m=\u001b[39m lemmatize(clean(User_input))\n\u001b[0;32m      4\u001b[0m     doc \u001b[38;5;241m=\u001b[39m nlp(sentence)\n",
      "File \u001b[1;32mD:\\anaconda3\\envs\\tensorflow_learn\\Lib\\site-packages\\ipykernel\\kernelbase.py:1262\u001b[0m, in \u001b[0;36mKernel.raw_input\u001b[1;34m(self, prompt)\u001b[0m\n\u001b[0;32m   1260\u001b[0m     msg \u001b[38;5;241m=\u001b[39m \u001b[38;5;124m\"\u001b[39m\u001b[38;5;124mraw_input was called, but this frontend does not support input requests.\u001b[39m\u001b[38;5;124m\"\u001b[39m\n\u001b[0;32m   1261\u001b[0m     \u001b[38;5;28;01mraise\u001b[39;00m StdinNotImplementedError(msg)\n\u001b[1;32m-> 1262\u001b[0m \u001b[38;5;28;01mreturn\u001b[39;00m \u001b[38;5;28mself\u001b[39m\u001b[38;5;241m.\u001b[39m_input_request(\n\u001b[0;32m   1263\u001b[0m     \u001b[38;5;28mstr\u001b[39m(prompt),\n\u001b[0;32m   1264\u001b[0m     \u001b[38;5;28mself\u001b[39m\u001b[38;5;241m.\u001b[39m_parent_ident[\u001b[38;5;124m\"\u001b[39m\u001b[38;5;124mshell\u001b[39m\u001b[38;5;124m\"\u001b[39m],\n\u001b[0;32m   1265\u001b[0m     \u001b[38;5;28mself\u001b[39m\u001b[38;5;241m.\u001b[39mget_parent(\u001b[38;5;124m\"\u001b[39m\u001b[38;5;124mshell\u001b[39m\u001b[38;5;124m\"\u001b[39m),\n\u001b[0;32m   1266\u001b[0m     password\u001b[38;5;241m=\u001b[39m\u001b[38;5;28;01mFalse\u001b[39;00m,\n\u001b[0;32m   1267\u001b[0m )\n",
      "File \u001b[1;32mD:\\anaconda3\\envs\\tensorflow_learn\\Lib\\site-packages\\ipykernel\\kernelbase.py:1305\u001b[0m, in \u001b[0;36mKernel._input_request\u001b[1;34m(self, prompt, ident, parent, password)\u001b[0m\n\u001b[0;32m   1302\u001b[0m \u001b[38;5;28;01mexcept\u001b[39;00m \u001b[38;5;167;01mKeyboardInterrupt\u001b[39;00m:\n\u001b[0;32m   1303\u001b[0m     \u001b[38;5;66;03m# re-raise KeyboardInterrupt, to truncate traceback\u001b[39;00m\n\u001b[0;32m   1304\u001b[0m     msg \u001b[38;5;241m=\u001b[39m \u001b[38;5;124m\"\u001b[39m\u001b[38;5;124mInterrupted by user\u001b[39m\u001b[38;5;124m\"\u001b[39m\n\u001b[1;32m-> 1305\u001b[0m     \u001b[38;5;28;01mraise\u001b[39;00m \u001b[38;5;167;01mKeyboardInterrupt\u001b[39;00m(msg) \u001b[38;5;28;01mfrom\u001b[39;00m \u001b[38;5;28;01mNone\u001b[39;00m\n\u001b[0;32m   1306\u001b[0m \u001b[38;5;28;01mexcept\u001b[39;00m \u001b[38;5;167;01mException\u001b[39;00m:\n\u001b[0;32m   1307\u001b[0m     \u001b[38;5;28mself\u001b[39m\u001b[38;5;241m.\u001b[39mlog\u001b[38;5;241m.\u001b[39mwarning(\u001b[38;5;124m\"\u001b[39m\u001b[38;5;124mInvalid Message:\u001b[39m\u001b[38;5;124m\"\u001b[39m, exc_info\u001b[38;5;241m=\u001b[39m\u001b[38;5;28;01mTrue\u001b[39;00m)\n",
      "\u001b[1;31mKeyboardInterrupt\u001b[0m: Interrupted by user"
     ]
    }
   ],
   "source": [
    "while True:\n",
    "    User_input = input('User: ')\n",
    "    sentence = lemmatize(clean(User_input))\n",
    "    doc = nlp(sentence)\n",
    "    vector = doc.vector\n",
    "    vector = np.reshape(vector, (1, 300,1))\n",
    "    predictions = model.predict(vector)\n",
    "    predicted_class_index = np.argmax(predictions)\n",
    "    predicted_class_probability = predictions[0][predicted_class_index]\n",
    "    if predicted_class_probability > 0.6:\n",
    "        print(predicted_class_index)\n",
    "    else:\n",
    "        print('I dont Understand', predicted_class_probability, predicted_class_index)"
   ]
  },
  {
   "cell_type": "code",
   "execution_count": 54,
   "id": "2d71d4f8-48fa-4bfb-bf2d-55fbc04f0788",
   "metadata": {},
   "outputs": [],
   "source": [
    "# Clearly Using Stemming only is the better option"
   ]
  },
  {
   "cell_type": "code",
   "execution_count": 55,
   "id": "8b764a63-ebff-44ef-8aa3-6ed3cc62c387",
   "metadata": {},
   "outputs": [
    {
     "name": "stderr",
     "output_type": "stream",
     "text": [
      "<>:1: SyntaxWarning: invalid escape sequence '\\H'\n",
      "<>:1: SyntaxWarning: invalid escape sequence '\\H'\n",
      "C:\\Users\\HP\\AppData\\Local\\Temp\\ipykernel_12140\\2099000907.py:1: SyntaxWarning: invalid escape sequence '\\H'\n",
      "  model.save('D:\\HWAN\\Models\\Main_chatbot_Model\\M_CBOT_M.keras')\n"
     ]
    }
   ],
   "source": [
    "model.save('D:\\HWAN\\Models\\Main_chatbot_Model\\M_CBOT_M.keras')"
   ]
  },
  {
   "cell_type": "code",
   "execution_count": null,
   "id": "b03676e4-a73c-4251-9136-43f623899366",
   "metadata": {},
   "outputs": [],
   "source": []
  }
 ],
 "metadata": {
  "kernelspec": {
   "display_name": "tensorflow_learn",
   "language": "python",
   "name": "tensorflow_learn"
  },
  "language_info": {
   "codemirror_mode": {
    "name": "ipython",
    "version": 3
   },
   "file_extension": ".py",
   "mimetype": "text/x-python",
   "name": "python",
   "nbconvert_exporter": "python",
   "pygments_lexer": "ipython3",
   "version": "3.12.2"
  }
 },
 "nbformat": 4,
 "nbformat_minor": 5
}
